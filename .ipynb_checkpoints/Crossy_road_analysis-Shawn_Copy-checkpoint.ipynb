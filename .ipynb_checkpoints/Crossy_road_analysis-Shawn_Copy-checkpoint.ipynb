{
 "cells": [
  {
   "cell_type": "code",
   "execution_count": 17,
   "metadata": {},
   "outputs": [],
   "source": [
    "from selenium import webdriver\n",
    "from selenium.webdriver.common.keys import Keys\n",
    "from selenium.webdriver.support.ui import WebDriverWait\n",
    "from selenium.webdriver.common.by import By\n",
    "from selenium.webdriver.support import expected_conditions as EC\n",
    "import cv2 as cv\n",
    "from keras.models import Sequential\n",
    "from keras.layers.core import Dense, Dropout, Activation, Flatten\n",
    "from keras.layers.convolutional import Conv2D, MaxPooling2D\n",
    "from keras.optimizers import SGD , Adam\n",
    "from rl.agents import DQNAgent\n",
    "from rl.policy import BoltzmannQPolicy\n",
    "from rl.memory import SequentialMemory\n",
    "import os\n",
    "import numpy as np\n",
    "import random"
   ]
  },
  {
   "cell_type": "code",
   "execution_count": 18,
   "metadata": {},
   "outputs": [],
   "source": [
    "# Define variable\n",
    "game_url = \"file:///Users/shuweizhang/Documents/Studies_Local/527/CrossyRoad/web/index.html\"\n",
    "# screen_shot_output = \"../screenshot/input_state.png\"\n",
    "screen_shot_output = \"input_state.png\"\n",
    "window_size_w = 1200\n",
    "window_size_h = 600"
   ]
  },
  {
   "cell_type": "code",
   "execution_count": 19,
   "metadata": {},
   "outputs": [],
   "source": [
    "# #game parameters\n",
    "ACTIONS = 4 # possible actions: forward, backward,left, right, do nothing\n",
    "# GAMMA = 0.99 # decay rate of past observations original 0.99\n",
    "# OBSERVATION = 100. # timesteps to observe before training\n",
    "# EXPLORE = 100000  # frames over which to anneal epsilon\n",
    "# FINAL_EPSILON = 0.0001 # final value of epsilon\n",
    "# INITIAL_EPSILON = 0.1 # starting value of epsilon\n",
    "# REPLAY_MEMORY = 50000 # number of previous transitions to remember\n",
    "# BATCH = 16 # size of minibatch\n",
    "# FRAME_PER_ACTION = 1\n",
    "LEARNING_RATE = 1e-4\n",
    "img_rows , img_cols = 80,80\n",
    "img_channels = 4 #We stack 4 frames"
   ]
  },
  {
   "cell_type": "code",
   "execution_count": 20,
   "metadata": {},
   "outputs": [],
   "source": [
    "class Game:\n",
    "    def __init__(self):\n",
    "        self._driver = webdriver.Chrome()\n",
    "        self._driver.set_window_size(window_size_w,window_size_h)\n",
    "        self._driver.get(game_url)\n",
    "\n",
    "    def press_up(self):\n",
    "        self._driver.find_element_by_id(\"forward\").send_keys(Keys.UP)\n",
    "\n",
    "    def press_down(self):\n",
    "        self._driver.find_element_by_id(\"backward\").send_keys(Keys.DOWN)\n",
    "\n",
    "    def press_left(self):\n",
    "        self._driver.find_element_by_id('left').send_keys(Keys.LEFT)\n",
    "\n",
    "    def press_right(self):\n",
    "        self._driver.find_element_by_id('right').send_keys(Keys.RIGHT)\n",
    "\n",
    "    def get_score(self):\n",
    "        return self._driver.find_element_by_id('counter').text\n",
    "\n",
    "    def get_crashed(self):\n",
    "        self.element = self._driver.find_element_by_id('retry')\n",
    "        return self.element.is_displayed()\n",
    "           \n",
    "    def restart_game(self):\n",
    "        WebDriverWait(self._driver, 5).until(EC.element_to_be_clickable((By.ID, \"retry\"))).click()\n",
    "    \n",
    "    def end(self):\n",
    "        self._driver.close()"
   ]
  },
  {
   "cell_type": "code",
   "execution_count": 21,
   "metadata": {},
   "outputs": [],
   "source": [
    "class MyChicken:\n",
    "    def __init__(self,game):\n",
    "        self._game = game\n",
    "\n",
    "    def forward(self):\n",
    "        self._game.press_up()\n",
    "   \n",
    "    def backward(self):\n",
    "        self._game.press_down()\n",
    "\n",
    "    def left(self):\n",
    "        self._game.press_left()\n",
    "\n",
    "    def right(self):\n",
    "        self._game.press_right()\n",
    "\n",
    "    def is_crashed(self):\n",
    "        return self._game.get_crashed()\n"
   ]
  },
  {
   "cell_type": "code",
   "execution_count": 22,
   "metadata": {},
   "outputs": [],
   "source": [
    "class Game_state:\n",
    "    def __init__(self,agent,game):\n",
    "        self._agent = agent\n",
    "        self._game = game\n",
    "\n",
    "    def get_state(self,actions):\n",
    "        reward = 0.1\n",
    "        is_over = False #game over\n",
    "        \n",
    "        # Implement with action for our chicken\n",
    "        if actions == 0:\n",
    "            self._agent.forward()\n",
    "            \n",
    "        elif actions == 1:\n",
    "            self._agent.left()\n",
    "            \n",
    "        elif actions == 2:\n",
    "            self._agent.right()\n",
    "            \n",
    "        elif actions == 3:\n",
    "            self._agent.backward()\n",
    "\n",
    "        \n",
    "        if self._agent.is_crashed():\n",
    "#             scores_df.loc[len(loss_df)] = score # log the score when game is over\n",
    "            self._game.restart_game()\n",
    "#             self._game.end()\n",
    "            reward = -1\n",
    "            is_over = True\n",
    "              \n",
    "        # Capture screen, crop put of regoin  of interest, and resize to 80x80\n",
    "        image = grab_screen(self._game._driver)\n",
    "        image = processing_image()\n",
    "        \n",
    "        return image, reward, is_over\n",
    "    "
   ]
  },
  {
   "cell_type": "code",
   "execution_count": 23,
   "metadata": {},
   "outputs": [],
   "source": [
    "def grab_screen(_driver):\n",
    "    # Capture the browser\n",
    "    _driver.save_screenshot(screen_shot_output)\n",
    "\n",
    "def processing_image():\n",
    "    input_shot = cv.imread(screen_shot_output)\n",
    "    image = cv.cvtColor(input_shot, cv.COLOR_RGBA2GRAY)\n",
    "    image = image[50:850, 750:1850]\n",
    "    image = cv.resize(image, (80,80))\n",
    "    return image"
   ]
  },
  {
   "cell_type": "code",
   "execution_count": 24,
   "metadata": {},
   "outputs": [],
   "source": [
    "def buildmodel():\n",
    "\n",
    "    model = Sequential()\n",
    "    \n",
    "    \n",
    "    # input shape : out input to the first convolution layer\n",
    "    #   --> resize the original image to 80x80 pixels (img_cols x img_row), which is the format to feed into the Neural Network\n",
    "    #   --> we stack the last 4 frames from the screen, so it becomes 80x80x4\n",
    "    #  We applied Conv2D\n",
    "    #   --> Take 8 by 8 at the time then Stripes by using 4x4 matrix\n",
    "    #   --> The output shape from this layer becomes 20x20x32, where 32 is the features that we would like to extract\n",
    "    #   --> For your info, we do not have an absolute number for the filters fo Conv2D(32), we need to test and see the result\n",
    "    #   --> 32 is the hyperparameter that we need to figure out \n",
    "    model.add(Conv2D(32, (8, 8), padding='same',strides=(4, 4),input_shape=(img_cols,img_rows,img_channels)))\n",
    "    # We do \"Max pooling by setting the pool size to 2x2 matrix\"\n",
    "    #   --> the remain shape for this layer becomes 10x10x32, where 32 is still the number of filer\n",
    "    model.add(MaxPooling2D(pool_size=(2,2)))\n",
    "    # Then we apply the activation\n",
    "    #   --> activation layer or Relu is trying to detect the edge\n",
    "    #   --> after this activation layer, the output shape is still the same since we did not stripe or anything\n",
    "    #   --> the main point for the activation layer is try to detect the edge on the image\n",
    "    model.add(Activation('relu'))\n",
    "    \n",
    "    \n",
    "    # --> since we set the strides to 2x2 matrix\n",
    "    # --> input before this layer is 10x10x32--> becomes 5x5x64\n",
    "    model.add(Conv2D(64, (4, 4),strides=(2, 2),  padding='same'))\n",
    "    # --> we do a max pooling by using 2x2 matrix --> become 2x2x64\n",
    "    # --> why is it not 3x3? \n",
    "    # --> ans: since the size of matrix in 5x5 now, so it will run out of the shape\n",
    "    model.add(MaxPooling2D(pool_size=(2,2)))\n",
    "    # --> the output shape is still the same 5x5x64\n",
    "    model.add(Activation('relu'))\n",
    "    \n",
    "    \n",
    "    # --> input is 2x2x64\n",
    "    # --> after applying this layer, it becomes 2x2x64\n",
    "    model.add(Conv2D(64, (3, 3),strides=(1, 1),  padding='same'))\n",
    "    # --> after applying this maxpooling, it becomes 1x1x64\n",
    "    model.add(MaxPooling2D(pool_size=(2,2)))\n",
    "    # --> become 1x1x64\n",
    "    model.add(Activation('relu'))\n",
    "    \n",
    "    # we apply flatten to have 1D array\n",
    "    # The result should be 64 --> comes from 64x1x1\n",
    "    model.add(Flatten())\n",
    "    \n",
    "    # Fully connect \n",
    "    # 512 is the number of unit --> denote output size of the layer\n",
    "    # Hyperparameter that we need to try it out\n",
    "    model.add(Dense(512))\n",
    "    # output shape = 512\n",
    "    model.add(Activation('relu'))\n",
    "    \n",
    "    \n",
    "    # output layer, which have 3 possible actions now\n",
    "    # forward, left, and right\n",
    "    model.add(Dense(ACTIONS))\n",
    "    \n",
    "    adam = Adam(lr=LEARNING_RATE)\n",
    "    model.compile(loss='mse',optimizer=adam)\n",
    "    \n",
    "    #create model file if not present\n",
    "    model.save_weights('../object/model.h5')\n",
    "    #print(\"We finish building the model\")\n",
    "    return model"
   ]
  },
  {
   "cell_type": "code",
   "execution_count": 25,
   "metadata": {},
   "outputs": [],
   "source": [
    "from rl.agents import DQNAgent\n",
    "from rl.policy import BoltzmannQPolicy\n",
    "from rl.memory import SequentialMemory"
   ]
  },
  {
   "cell_type": "code",
   "execution_count": 9,
   "metadata": {},
   "outputs": [],
   "source": [
    "def build_agent(model, actions):\n",
    "    policy = BoltzmannQPolicy()\n",
    "    memory = SequentialMemory(limit=50000, window_length=1)\n",
    "    dqn = DQNAgent(model=model, memory=memory, policy=policy, \n",
    "                  nb_actions=actions, nb_steps_warmup=10, target_model_update=1e-2)\n",
    "    return dqn"
   ]
  },
  {
   "cell_type": "code",
   "execution_count": 21,
   "metadata": {},
   "outputs": [
    {
     "name": "stdout",
     "output_type": "stream",
     "text": [
      "Now we build the model\n",
      "We finish building the model\n"
     ]
    },
    {
     "ename": "ValueError",
     "evalue": "Model output \"Tensor(\"dense_4/BiasAdd:0\", shape=(?, 4), dtype=float32)\" has invalid shape. DQN expects a model that has one dimension for each action, in this case 2.",
     "output_type": "error",
     "traceback": [
      "\u001b[0;31m---------------------------------------------------------------------------\u001b[0m",
      "\u001b[0;31mValueError\u001b[0m                                Traceback (most recent call last)",
      "\u001b[0;32m<ipython-input-21-b053747c3aca>\u001b[0m in \u001b[0;36m<module>\u001b[0;34m\u001b[0m\n\u001b[1;32m      5\u001b[0m \u001b[0mguess_action\u001b[0m \u001b[0;34m=\u001b[0m \u001b[0mrandom\u001b[0m\u001b[0;34m.\u001b[0m\u001b[0mrandint\u001b[0m\u001b[0;34m(\u001b[0m\u001b[0;36m0\u001b[0m\u001b[0;34m,\u001b[0m\u001b[0;36m3\u001b[0m\u001b[0;34m)\u001b[0m\u001b[0;34m\u001b[0m\u001b[0;34m\u001b[0m\u001b[0m\n\u001b[1;32m      6\u001b[0m \u001b[0mimage_screen\u001b[0m\u001b[0;34m,\u001b[0m \u001b[0mreward\u001b[0m\u001b[0;34m,\u001b[0m \u001b[0mis_dead\u001b[0m \u001b[0;34m=\u001b[0m \u001b[0mgame_state\u001b[0m\u001b[0;34m.\u001b[0m\u001b[0mget_state\u001b[0m\u001b[0;34m(\u001b[0m\u001b[0mint\u001b[0m\u001b[0;34m(\u001b[0m\u001b[0mguess_action\u001b[0m\u001b[0;34m)\u001b[0m\u001b[0;34m)\u001b[0m\u001b[0;34m\u001b[0m\u001b[0;34m\u001b[0m\u001b[0m\n\u001b[0;32m----> 7\u001b[0;31m \u001b[0mdqn\u001b[0m \u001b[0;34m=\u001b[0m \u001b[0mbuild_agent\u001b[0m\u001b[0;34m(\u001b[0m\u001b[0mmodel\u001b[0m\u001b[0;34m,\u001b[0m \u001b[0mguess_action\u001b[0m\u001b[0;34m)\u001b[0m\u001b[0;34m\u001b[0m\u001b[0;34m\u001b[0m\u001b[0m\n\u001b[0m\u001b[1;32m      8\u001b[0m \u001b[0mdqn\u001b[0m\u001b[0;34m.\u001b[0m\u001b[0mcompile\u001b[0m\u001b[0;34m(\u001b[0m\u001b[0mAdam\u001b[0m\u001b[0;34m(\u001b[0m\u001b[0mlr\u001b[0m\u001b[0;34m=\u001b[0m\u001b[0;36m1e-3\u001b[0m\u001b[0;34m)\u001b[0m\u001b[0;34m,\u001b[0m \u001b[0mmetrics\u001b[0m\u001b[0;34m=\u001b[0m\u001b[0;34m[\u001b[0m\u001b[0;34m'mae'\u001b[0m\u001b[0;34m]\u001b[0m\u001b[0;34m)\u001b[0m\u001b[0;34m\u001b[0m\u001b[0;34m\u001b[0m\u001b[0m\n\u001b[1;32m      9\u001b[0m \u001b[0mdqn\u001b[0m\u001b[0;34m.\u001b[0m\u001b[0mfit\u001b[0m\u001b[0;34m(\u001b[0m\u001b[0menv\u001b[0m\u001b[0;34m,\u001b[0m \u001b[0mnb_steps\u001b[0m\u001b[0;34m=\u001b[0m\u001b[0;36m50000\u001b[0m\u001b[0;34m,\u001b[0m \u001b[0mvisualize\u001b[0m\u001b[0;34m=\u001b[0m\u001b[0;32mFalse\u001b[0m\u001b[0;34m,\u001b[0m \u001b[0mverbose\u001b[0m\u001b[0;34m=\u001b[0m\u001b[0;36m1\u001b[0m\u001b[0;34m)\u001b[0m\u001b[0;34m\u001b[0m\u001b[0;34m\u001b[0m\u001b[0m\n",
      "\u001b[0;32m<ipython-input-19-aabc7acf89aa>\u001b[0m in \u001b[0;36mbuild_agent\u001b[0;34m(model, actions)\u001b[0m\n\u001b[1;32m      3\u001b[0m     \u001b[0mmemory\u001b[0m \u001b[0;34m=\u001b[0m \u001b[0mSequentialMemory\u001b[0m\u001b[0;34m(\u001b[0m\u001b[0mlimit\u001b[0m\u001b[0;34m=\u001b[0m\u001b[0;36m50000\u001b[0m\u001b[0;34m,\u001b[0m \u001b[0mwindow_length\u001b[0m\u001b[0;34m=\u001b[0m\u001b[0;36m1\u001b[0m\u001b[0;34m)\u001b[0m\u001b[0;34m\u001b[0m\u001b[0;34m\u001b[0m\u001b[0m\n\u001b[1;32m      4\u001b[0m     dqn = DQNAgent(model=model, memory=memory, policy=policy, \n\u001b[0;32m----> 5\u001b[0;31m                   nb_actions=actions, nb_steps_warmup=10, target_model_update=1e-2)\n\u001b[0m\u001b[1;32m      6\u001b[0m     \u001b[0;32mreturn\u001b[0m \u001b[0mdqn\u001b[0m\u001b[0;34m\u001b[0m\u001b[0;34m\u001b[0m\u001b[0m\n",
      "\u001b[0;32m~/opt/anaconda3/lib/python3.7/site-packages/rl/agents/dqn.py\u001b[0m in \u001b[0;36m__init__\u001b[0;34m(self, model, policy, test_policy, enable_double_dqn, enable_dueling_network, dueling_type, *args, **kwargs)\u001b[0m\n\u001b[1;32m    109\u001b[0m             \u001b[0;32mraise\u001b[0m \u001b[0mValueError\u001b[0m\u001b[0;34m(\u001b[0m\u001b[0;34m'Model \"{}\" has more than one output. DQN expects a model that has a single output.'\u001b[0m\u001b[0;34m.\u001b[0m\u001b[0mformat\u001b[0m\u001b[0;34m(\u001b[0m\u001b[0mmodel\u001b[0m\u001b[0;34m)\u001b[0m\u001b[0;34m)\u001b[0m\u001b[0;34m\u001b[0m\u001b[0;34m\u001b[0m\u001b[0m\n\u001b[1;32m    110\u001b[0m         \u001b[0;32mif\u001b[0m \u001b[0mmodel\u001b[0m\u001b[0;34m.\u001b[0m\u001b[0moutput\u001b[0m\u001b[0;34m.\u001b[0m\u001b[0m_keras_shape\u001b[0m \u001b[0;34m!=\u001b[0m \u001b[0;34m(\u001b[0m\u001b[0;32mNone\u001b[0m\u001b[0;34m,\u001b[0m \u001b[0mself\u001b[0m\u001b[0;34m.\u001b[0m\u001b[0mnb_actions\u001b[0m\u001b[0;34m)\u001b[0m\u001b[0;34m:\u001b[0m\u001b[0;34m\u001b[0m\u001b[0;34m\u001b[0m\u001b[0m\n\u001b[0;32m--> 111\u001b[0;31m             \u001b[0;32mraise\u001b[0m \u001b[0mValueError\u001b[0m\u001b[0;34m(\u001b[0m\u001b[0;34m'Model output \"{}\" has invalid shape. DQN expects a model that has one dimension for each action, in this case {}.'\u001b[0m\u001b[0;34m.\u001b[0m\u001b[0mformat\u001b[0m\u001b[0;34m(\u001b[0m\u001b[0mmodel\u001b[0m\u001b[0;34m.\u001b[0m\u001b[0moutput\u001b[0m\u001b[0;34m,\u001b[0m \u001b[0mself\u001b[0m\u001b[0;34m.\u001b[0m\u001b[0mnb_actions\u001b[0m\u001b[0;34m)\u001b[0m\u001b[0;34m)\u001b[0m\u001b[0;34m\u001b[0m\u001b[0;34m\u001b[0m\u001b[0m\n\u001b[0m\u001b[1;32m    112\u001b[0m \u001b[0;34m\u001b[0m\u001b[0m\n\u001b[1;32m    113\u001b[0m         \u001b[0;31m# Parameters.\u001b[0m\u001b[0;34m\u001b[0m\u001b[0;34m\u001b[0m\u001b[0;34m\u001b[0m\u001b[0m\n",
      "\u001b[0;31mValueError\u001b[0m: Model output \"Tensor(\"dense_4/BiasAdd:0\", shape=(?, 4), dtype=float32)\" has invalid shape. DQN expects a model that has one dimension for each action, in this case 2."
     ]
    }
   ],
   "source": [
    "game = Game()\n",
    "chicken = MyChicken(game)\n",
    "game_state = Game_state(chicken,game)\n",
    "model = buildmodel()\n",
    "guess_action = random.randint(0,3)\n",
    "image_screen, reward, is_dead = game_state.get_state(int(guess_action))\n",
    "dqn = build_agent(model, guess_action)\n",
    "dqn.compile(Adam(lr=1e-3), metrics=['mae'])\n",
    "dqn.fit(env, nb_steps=50000, visualize=False, verbose=1)"
   ]
  },
  {
   "cell_type": "code",
   "execution_count": null,
   "metadata": {},
   "outputs": [],
   "source": [
    "episodes = 10\n",
    "for episode in range(1, episodes+1):\n",
    "    \n",
    "    done = False\n",
    "    score = 0 \n",
    "    game = Game()\n",
    "    chicken = MyChicken(game)\n",
    "    game_state = Game_state(chicken,game)\n",
    "    model = buildmodel()\n",
    "\n",
    "    \n",
    "    while not done:\n",
    "        # Random actions \n",
    "        # 0: move forward\n",
    "        # 1: move left\n",
    "        # 2: move right\n",
    "        # 3: move backward\n",
    "        guess_action = random.randint(0,3)\n",
    "        image_screen, reward, is_dead = game_state.get_state(int(guess_action))\n",
    "        score+=reward\n",
    "        \n",
    "        if is_dead is True:\n",
    "            done = True\n",
    "\n",
    "        \n",
    "    game.end()\n",
    "\n",
    "         \n",
    "    print('Episode:{} Score:{}'.format(episode, score))"
   ]
  },
  {
   "cell_type": "code",
   "execution_count": null,
   "metadata": {},
   "outputs": [],
   "source": [
    "# s_t = np.stack((image_screen, image_screen, image_screen, image_screen), axis=2)\n",
    "# s_t = s_t.reshape(1, s_t.shape[0], s_t.shape[1], s_t.shape[2])"
   ]
  },
  {
   "cell_type": "code",
   "execution_count": null,
   "metadata": {},
   "outputs": [],
   "source": [
    "# q = model.predict(s_t)       #input a stack of 4 images, get the prediction\n",
    "# max_Q = np.argmax(q)"
   ]
  },
  {
   "cell_type": "code",
   "execution_count": null,
   "metadata": {},
   "outputs": [],
   "source": [
    "# max_Q"
   ]
  },
  {
   "cell_type": "code",
   "execution_count": null,
   "metadata": {},
   "outputs": [],
   "source": [
    "# s_t = s_t.reshape(1, s_t.shape[0], s_t.shape[1], s_t.shape[2])"
   ]
  },
  {
   "cell_type": "code",
   "execution_count": null,
   "metadata": {},
   "outputs": [],
   "source": [
    "# cv.imshow('new image', image_screen)"
   ]
  },
  {
   "cell_type": "code",
   "execution_count": null,
   "metadata": {},
   "outputs": [],
   "source": [
    "# episodes = 5\n",
    "# for episode in range(1,episodes+1):\n",
    "#     print(episode)\n",
    "    "
   ]
  },
  {
   "cell_type": "code",
   "execution_count": null,
   "metadata": {},
   "outputs": [],
   "source": [
    "# cv.imshow('new image', temp)\n",
    "# cv.waitKey()"
   ]
  },
  {
   "cell_type": "code",
   "execution_count": null,
   "metadata": {},
   "outputs": [],
   "source": [
    "# model.summary()"
   ]
  },
  {
   "cell_type": "code",
   "execution_count": null,
   "metadata": {},
   "outputs": [],
   "source": [
    "                                                                                                                                                                                                                                                                                                                                                                                                                                                                                                                                                                                                                                                                                                                                                                                                                                                                                                                                                                                                                                                                                                                                                                                                                                                                                                                                                                                                                                                                                                                                                                                                                                                                                                                             "
   ]
  }
 ],
 "metadata": {
  "kernelspec": {
   "display_name": "Python 3",
   "language": "python",
   "name": "python3"
  },
  "language_info": {
   "codemirror_mode": {
    "name": "ipython",
    "version": 3
   },
   "file_extension": ".py",
   "mimetype": "text/x-python",
   "name": "python",
   "nbconvert_exporter": "python",
   "pygments_lexer": "ipython3",
   "version": "3.7.9"
  }
 },
 "nbformat": 4,
 "nbformat_minor": 5
}
