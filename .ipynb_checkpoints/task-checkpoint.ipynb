{
 "cells": [
  {
   "cell_type": "code",
   "execution_count": 35,
   "metadata": {
    "executionInfo": {
     "elapsed": 1088,
     "status": "ok",
     "timestamp": 1616208096453,
     "user": {
      "displayName": "Shawn",
      "photoUrl": "https://lh3.googleusercontent.com/a-/AOh14GiZZolNljaWyut5kciYIMHMElJv7QaQnVZYfFWIvA=s64",
      "userId": "03546205029312052168"
     },
     "user_tz": 420
    },
    "id": "OKrLBgsUD-F9"
   },
   "outputs": [],
   "source": [
    "from collections import deque\n",
    "\n",
    "from selenium import webdriver\n",
    "from selenium.webdriver.chrome.options import Options\n",
    "from selenium.webdriver.common.action_chains import ActionChains\n",
    "from selenium.webdriver.common.keys import Keys\n",
    "from selenium.webdriver.support.ui import WebDriverWait\n",
    "from selenium.webdriver.common.by import By\n",
    "from selenium.webdriver.support import expected_conditions as EC\n",
    "\n",
    "import cv2 as cv\n",
    "\n",
    "from keras.models import Sequential\n",
    "from keras.layers.core import Dense, Activation, Flatten\n",
    "from keras.layers.convolutional import Conv2D, MaxPooling2D\n",
    "from keras.optimizers import Adam\n",
    "\n",
    "import numpy as np\n",
    "import pandas as pd\n",
    "import random\n",
    "import pickle\n",
    "import time\n",
    "import os\n",
    "import base64\n",
    "from io import BytesIO\n",
    "from PIL import Image"
   ]
  },
  {
   "cell_type": "code",
   "execution_count": 65,
   "metadata": {
    "executionInfo": {
     "elapsed": 1272,
     "status": "ok",
     "timestamp": 1616208096824,
     "user": {
      "displayName": "Shawn",
      "photoUrl": "https://lh3.googleusercontent.com/a-/AOh14GiZZolNljaWyut5kciYIMHMElJv7QaQnVZYfFWIvA=s64",
      "userId": "03546205029312052168"
     },
     "user_tz": 420
    },
    "id": "o6lJt4BtELCt"
   },
   "outputs": [],
   "source": [
    "GAME_URL = 'file:///Users/shuweizhang/Documents/Studies_Local/527/CrossyRoad/web/index.html'\n",
    "\n",
    "OBJ_PATH = '/Users/shuweizhang/Documents/Studies_Local/527/CrossyRoad/objects/'\n",
    "\n",
    "MODEL_FILE_PATH = '/Users/shuweizhang/Documents/Studies_Local/527/CrossyRoad/objects/model.h5'\n",
    "\n",
    "LOSS_FILE_PATH = '/Users/shuweizhang/Documents/Studies_Local/527/CrossyRoad/objects/loss_df.csv'\n",
    "ACTIONS_FILE_PATH = '/Users/shuweizhang/Documents/Studies_Local/527/CrossyRoad/objects/actions_df.csv'\n",
    "Q_VALUES_FILE_PATH = '/Users/shuweizhang/Documents/Studies_Local/527/CrossyRoad/objects/q_values.csv'\n",
    "SCORES_FILE_PATH = '/Users/shuweizhang/Documents/Studies_Local/527/CrossyRoad/objects/scores_df.csv'\n",
    "\n",
    "# Set the browser size\n",
    "WINDOW_SIZE_W = 1200\n",
    "WINDOW_SIZE_H = 600"
   ]
  },
  {
   "cell_type": "code",
   "execution_count": 66,
   "metadata": {
    "executionInfo": {
     "elapsed": 1094,
     "status": "ok",
     "timestamp": 1616208096826,
     "user": {
      "displayName": "Shawn",
      "photoUrl": "https://lh3.googleusercontent.com/a-/AOh14GiZZolNljaWyut5kciYIMHMElJv7QaQnVZYfFWIvA=s64",
      "userId": "03546205029312052168"
     },
     "user_tz": 420
    },
    "id": "QM5gMR1JEUrh"
   },
   "outputs": [],
   "source": [
    "ACTIONS = 4\n",
    "LEARNING_RATE = 1e-4\n",
    "IMG_ROWS, IMG_COLS = 80, 80\n",
    "IMG_CHANNELS = 4\n",
    "EXPLORE = 100000\n",
    "INITIAL_EPSILON = 0.2\n",
    "FINAL_EPSILON = 0.001\n",
    "OBSERVE = 35\n",
    "REPLAY_MEMORY = 50000\n",
    "BATCH = 32\n",
    "GAMMA = 0.99"
   ]
  },
  {
   "cell_type": "code",
   "execution_count": 67,
   "metadata": {
    "executionInfo": {
     "elapsed": 509,
     "status": "ok",
     "timestamp": 1616208255261,
     "user": {
      "displayName": "Shawn",
      "photoUrl": "https://lh3.googleusercontent.com/a-/AOh14GiZZolNljaWyut5kciYIMHMElJv7QaQnVZYfFWIvA=s64",
      "userId": "03546205029312052168"
     },
     "user_tz": 420
    },
    "id": "GVH8IjbpFBI8"
   },
   "outputs": [],
   "source": [
    "class Game:\n",
    "    def __init__(self):\n",
    "        chrome_options = Options()\n",
    "        chrome_options.add_argument('--no-sandbox')\n",
    "        # chrome_options.add_argument('--headless')\n",
    "        chrome_options.add_argument('--disable-dev-shm-usage')\n",
    "        self.driver = webdriver.Chrome(chrome_options=chrome_options)\n",
    "        self.driver.set_window_size(WINDOW_SIZE_W, WINDOW_SIZE_H)\n",
    "        self.driver.get(GAME_URL)\n",
    "        self._paused = False\n",
    "        self.element = self.driver.find_element_by_id('retry')\n",
    "\n",
    "    def press_up(self):\n",
    "        self.driver.find_element_by_id(\"forward\").send_keys(Keys.UP)\n",
    "\n",
    "    def press_down(self):\n",
    "        self.driver.find_element_by_id(\"backward\").send_keys(Keys.DOWN)\n",
    "\n",
    "    def press_left(self):\n",
    "        self.driver.find_element_by_id('left').send_keys(Keys.LEFT)\n",
    "\n",
    "    def press_right(self):\n",
    "        self.driver.find_element_by_id('right').send_keys(Keys.RIGHT)\n",
    "\n",
    "    def get_score(self):\n",
    "        text_score =  self.driver.find_element_by_id('counter').text\n",
    "        return int(text_score)\n",
    "\n",
    "    def get_crashed(self):\n",
    "        return self.element.is_displayed()\n",
    "\n",
    "    def restart_game(self):\n",
    "        WebDriverWait(self.driver, 5).until(EC.element_to_be_clickable((By.ID, \"retry\"))).click()\n",
    "\n",
    "    def end(self):\n",
    "        self.driver.close()\n",
    "\n",
    "    def pause_or_resume(self):\n",
    "        action = ActionChains(self.driver)\n",
    "        action.send_keys(Keys.ENTER).perform()\n",
    "        self._paused = not self._paused\n",
    "\n",
    "    def pause(self):\n",
    "        if not self._paused:\n",
    "          self.pause_or_resume()\n",
    "\n",
    "    def resume(self):\n",
    "        if self._paused:\n",
    "          self.pause_or_resume()\n",
    "\n",
    "    def end_game(self):\n",
    "        self.driver.close()"
   ]
  },
  {
   "cell_type": "code",
   "execution_count": 68,
   "metadata": {
    "executionInfo": {
     "elapsed": 785,
     "status": "ok",
     "timestamp": 1616208255684,
     "user": {
      "displayName": "Shawn",
      "photoUrl": "https://lh3.googleusercontent.com/a-/AOh14GiZZolNljaWyut5kciYIMHMElJv7QaQnVZYfFWIvA=s64",
      "userId": "03546205029312052168"
     },
     "user_tz": 420
    },
    "id": "3QVWlbw9FFPI"
   },
   "outputs": [],
   "source": [
    "class Chicken:\n",
    "    def __init__(self, game):\n",
    "        self._game = game\n",
    "\n",
    "    def forward(self):\n",
    "        self._game.press_up()\n",
    "\n",
    "    def backward(self):\n",
    "        self._game.press_down()\n",
    "\n",
    "    def left(self):\n",
    "        self._game.press_left()\n",
    "\n",
    "    def right(self):\n",
    "        self._game.press_right()\n",
    "\n",
    "    def is_crashed(self):\n",
    "        return self._game.get_crashed()\n",
    "\n",
    "    def pause_or_resume(self):\n",
    "        self._game.pause_or_resume()"
   ]
  },
  {
   "cell_type": "code",
   "execution_count": 69,
   "metadata": {
    "executionInfo": {
     "elapsed": 974,
     "status": "ok",
     "timestamp": 1616208394515,
     "user": {
      "displayName": "Shawn",
      "photoUrl": "https://lh3.googleusercontent.com/a-/AOh14GiZZolNljaWyut5kciYIMHMElJv7QaQnVZYfFWIvA=s64",
      "userId": "03546205029312052168"
     },
     "user_tz": 420
    },
    "id": "BwvQX88XFHkO"
   },
   "outputs": [],
   "source": [
    "class Game_State:\n",
    "    def __init__(self, agent, game):\n",
    "        self._agent = agent\n",
    "        self._game = game\n",
    "\n",
    "    def processing_image(self):\n",
    "        base = self._game.driver.find_element_by_id(\"imgURL\").text\n",
    "        screen = np.array(Image.open(BytesIO(base64.b64decode(base))))\n",
    "        image = cv.cvtColor(screen, cv.COLOR_RGBA2GRAY)\n",
    "        image = image[200:400, 650:850]\n",
    "        image = cv.resize(image, (80, 80))\n",
    "        image = cv.Canny(image, threshold1=100, threshold2=200)\n",
    "\n",
    "        return image\n",
    "\n",
    "    def pause(self):\n",
    "        self._game.pause()\n",
    "\n",
    "    def resume(self):\n",
    "        self._game.resume()\n",
    "\n",
    "    def get_state(self, actions, score_dep = True, reward_list = [1, 1, 1, 1, 10]):\n",
    "        reward = 0 if score_dep else 1\n",
    "\n",
    "        old_score = self._game.get_score()\n",
    "        is_over = False\n",
    "\n",
    "        if int(actions[0]) == 1:\n",
    "            self._agent.forward()\n",
    "            reward *= reward_list[0]\n",
    "\n",
    "        elif int(actions[1]) == 1:\n",
    "            self._agent.left()\n",
    "            reward *= reward_list[1]\n",
    "\n",
    "        elif int(actions[2]) == 1:\n",
    "            self._agent.right()\n",
    "            reward *= reward_list[2]\n",
    "\n",
    "        elif int(actions[3]) == 1:\n",
    "            self._agent.backward()\n",
    "            reward *= reward_list[3]\n",
    "\n",
    "        new_score = 0\n",
    "        if self._agent.is_crashed():\n",
    "            self._game_score = self._game.get_score()\n",
    "            self._game.restart_game()\n",
    "            is_over = True\n",
    "            reward = reward_list[4]\n",
    "        elif score_dep:\n",
    "            new_score = self._game.get_score()\n",
    "            reward += max(new_score - old_score, 0)\n",
    "\n",
    "        image = self.processing_image()\n",
    "\n",
    "        return image, reward, is_over, new_score"
   ]
  },
  {
   "cell_type": "code",
   "execution_count": 70,
   "metadata": {
    "executionInfo": {
     "elapsed": 1163,
     "status": "ok",
     "timestamp": 1616208394885,
     "user": {
      "displayName": "Shawn",
      "photoUrl": "https://lh3.googleusercontent.com/a-/AOh14GiZZolNljaWyut5kciYIMHMElJv7QaQnVZYfFWIvA=s64",
      "userId": "03546205029312052168"
     },
     "user_tz": 420
    },
    "id": "xK1FMl1UFMe4"
   },
   "outputs": [],
   "source": [
    "def build_model():\n",
    "    model = Sequential()\n",
    "\n",
    "    model.add(Conv2D(32, (8, 8), padding='same', strides=(4, 4), input_shape=(IMG_COLS, IMG_ROWS, IMG_CHANNELS)))\n",
    "    model.add(MaxPooling2D(pool_size=(2, 2)))\n",
    "    model.add(Activation('relu'))\n",
    "\n",
    "    model.add(Conv2D(64, (4, 4), strides=(2, 2), padding='same'))\n",
    "    model.add(MaxPooling2D(pool_size=(2, 2)))\n",
    "    model.add(Activation('relu'))\n",
    "\n",
    "    model.add(Conv2D(64, (3, 3), strides=(1, 1), padding='same'))\n",
    "    model.add(MaxPooling2D(pool_size=(2, 2)))\n",
    "    model.add(Activation('relu'))\n",
    "\n",
    "    model.add(Flatten())\n",
    "    model.add(Dense(512))\n",
    "    model.add(Activation('relu'))\n",
    "\n",
    "    model.add(Dense(ACTIONS))\n",
    "\n",
    "    adam = Adam(lr=LEARNING_RATE)\n",
    "    model.compile(loss='mse', optimizer=adam)\n",
    "\n",
    "    if not os.path.isfile(MODEL_FILE_PATH):\n",
    "        model.save_weights(MODEL_FILE_PATH)\n",
    "    return model"
   ]
  },
  {
   "cell_type": "code",
   "execution_count": 71,
   "metadata": {
    "executionInfo": {
     "elapsed": 1013,
     "status": "ok",
     "timestamp": 1616208394886,
     "user": {
      "displayName": "Shawn",
      "photoUrl": "https://lh3.googleusercontent.com/a-/AOh14GiZZolNljaWyut5kciYIMHMElJv7QaQnVZYfFWIvA=s64",
      "userId": "03546205029312052168"
     },
     "user_tz": 420
    },
    "id": "-IQ-tFo1LQXk"
   },
   "outputs": [],
   "source": [
    "def save_obj(obj, name):\n",
    "  with open(OBJ_PATH + name + '.pkl', 'wb') as f:\n",
    "    pickle.dump(obj, f, pickle.HIGHEST_PROTOCOL)\n",
    "\n",
    "def load_obj(name):\n",
    "  with open(OBJ_PATH + name + '.pkl', 'rb') as f:\n",
    "    return pickle.load(f)"
   ]
  },
  {
   "cell_type": "code",
   "execution_count": 72,
   "metadata": {
    "executionInfo": {
     "elapsed": 888,
     "status": "ok",
     "timestamp": 1616208394887,
     "user": {
      "displayName": "Shawn",
      "photoUrl": "https://lh3.googleusercontent.com/a-/AOh14GiZZolNljaWyut5kciYIMHMElJv7QaQnVZYfFWIvA=s64",
      "userId": "03546205029312052168"
     },
     "user_tz": 420
    },
    "id": "5DEWMCxwDRxm"
   },
   "outputs": [],
   "source": [
    "def init_cache():\n",
    "    if not os.path.isfile(OBJ_PATH + 'time.pkl'):\n",
    "        print('Initialize the cache')\n",
    "        save_obj(INITIAL_EPSILON, 'epsilon')\n",
    "        t = 0\n",
    "        save_obj(t, 'time')\n",
    "        memo = deque()\n",
    "        save_obj(memo, 'memory')\n",
    "init_cache()"
   ]
  },
  {
   "cell_type": "code",
   "execution_count": 73,
   "metadata": {
    "executionInfo": {
     "elapsed": 874,
     "status": "ok",
     "timestamp": 1616208395063,
     "user": {
      "displayName": "Shawn",
      "photoUrl": "https://lh3.googleusercontent.com/a-/AOh14GiZZolNljaWyut5kciYIMHMElJv7QaQnVZYfFWIvA=s64",
      "userId": "03546205029312052168"
     },
     "user_tz": 420
    },
    "id": "agbnkrRQbFxU"
   },
   "outputs": [],
   "source": [
    "#Intialize log structures from file if exists else create new\n",
    "loss_df = pd.read_csv(LOSS_FILE_PATH) if os.path.isfile(LOSS_FILE_PATH) else pd.DataFrame(columns =['loss'])\n",
    "scores_df = pd.read_csv(SCORES_FILE_PATH) if os.path.isfile(SCORES_FILE_PATH) else pd.DataFrame(columns = ['scores'])\n",
    "actions_df = pd.read_csv(ACTIONS_FILE_PATH) if os.path.isfile(ACTIONS_FILE_PATH) else pd.DataFrame(columns = ['actions'])\n",
    "q_values_df =pd.read_csv(Q_VALUES_FILE_PATH) if os.path.isfile(Q_VALUES_FILE_PATH) else pd.DataFrame(columns = ['qvalues'])"
   ]
  },
  {
   "cell_type": "code",
   "execution_count": 81,
   "metadata": {
    "executionInfo": {
     "elapsed": 777,
     "status": "ok",
     "timestamp": 1616208395064,
     "user": {
      "displayName": "Shawn",
      "photoUrl": "https://lh3.googleusercontent.com/a-/AOh14GiZZolNljaWyut5kciYIMHMElJv7QaQnVZYfFWIvA=s64",
      "userId": "03546205029312052168"
     },
     "user_tz": 420
    },
    "id": "Pfdfk4pFFPn4"
   },
   "outputs": [],
   "source": [
    "def train_nn(model, game_state):\n",
    "    memo = load_obj('memory')\n",
    "    do_nothing = np.zeros(ACTIONS)\n",
    "    t = load_obj('time')\n",
    "    epsilon = load_obj('epsilon')\n",
    "\n",
    "    if os.path.isfile(MODEL_FILE_PATH):\n",
    "        model.load_weights(MODEL_FILE_PATH)\n",
    "        adam = Adam(learning_rate=LEARNING_RATE)\n",
    "        model.compile(loss='mse', optimizer=adam)\n",
    "\n",
    "    image_t, reward_0, is_dead, game_score = game_state.get_state(do_nothing)\n",
    "    state_t = np.stack((image_t, image_t, image_t, image_t), axis=2)\n",
    "    state_t = state_t.reshape(1, state_t.shape[0], state_t.shape[1], state_t.shape[2])\n",
    "\n",
    "    while True:\n",
    "        loss = 0\n",
    "        Q_sa = 0\n",
    "        action_index = 0\n",
    "        reward = 0\n",
    "        action_t = np.zeros([ACTIONS])\n",
    "\n",
    "        game_state.pause()\n",
    "        if t < OBSERVE:\n",
    "            action_index = random.randrange(ACTIONS)\n",
    "            action_t[action_index] = 1\n",
    "        else:\n",
    "            pred = model.predict(state_t)\n",
    "            max_Q = np.argmax(pred)\n",
    "            action_index = max_Q\n",
    "            action_t[action_index] = 1\n",
    "        game_state.resume()\n",
    "\n",
    "        if epsilon > FINAL_EPSILON and t > OBSERVE:\n",
    "            epsilon -= (INITIAL_EPSILON - FINAL_EPSILON) / EXPLORE\n",
    "\n",
    "        image_t1, reward_t, is_dead, game_score = game_state.get_state(action_t)\n",
    "        image_t1 = image_t1.reshape(1, image_t1.shape[0], image_t1.shape[1], 1)\n",
    "        state_t1 = np.append(image_t1, state_t[:,:,:,:3], axis=3)\n",
    "\n",
    "        memo.append((state_t, action_index, reward_t, state_t1, is_dead))\n",
    "        if len(memo) > REPLAY_MEMORY:\n",
    "            memo.popleft()\n",
    "\n",
    "        game_state.pause()\n",
    "\n",
    "        if t > OBSERVE:\n",
    "            minibatch = random.sample(memo, BATCH)\n",
    "            inputs = np.zeros((BATCH, state_t.shape[1], state_t.shape[2], state_t.shape[3]))\n",
    "            targets = np.zeros((inputs.shape[0], ACTIONS))\n",
    "\n",
    "            for i in range(len(minibatch)):\n",
    "                state_t = minibatch[i][0]\n",
    "                action_t = minibatch[i][1]\n",
    "                reward_t = minibatch[i][2]\n",
    "                state_t1 = minibatch[i][3]\n",
    "                is_dead = minibatch[i][4]\n",
    "\n",
    "                inputs[i:i+1] = state_t\n",
    "                targets[i] = model.predict(state_t)\n",
    "                Q_sa = model.predict(state_t1)\n",
    "\n",
    "                if is_dead:\n",
    "                    targets[i, action_t] = reward_t\n",
    "                else:\n",
    "                    targets[i, action_t] = reward_t + GAMMA * np.max(Q_sa)\n",
    "\n",
    "            loss += model.train_on_batch(inputs, targets)\n",
    "            loss_df.loc[len(loss_df)] = loss\n",
    "            q_values_df.loc[len(q_values_df)] = np.max(Q_sa)\n",
    "\n",
    "        state_t = state_t1\n",
    "        t += 1\n",
    "\n",
    "        if t%200 == 0:\n",
    "            print('Now we save model')\n",
    "            model.save_weightys(MODEL_FILE_PATH, overwrite=True)\n",
    "            save_obj(memo, 'memory')\n",
    "            save_obj(t, 'time')\n",
    "            save_obj(epsilon, 'epsilon')\n",
    "            loss_df.to_csv(LOSS_FILE_PATH, index=False)\n",
    "            scores_df.to_csv(SCORES_FILE_PATH, index=False)\n",
    "            actions_df.to_csv(ACTIONS_FILE_PATH, index=False)\n",
    "            q_values_df.to_csv(Q_VALUES_FILE_PATH, index=False)\n",
    "            print('Finished Saving')\n",
    "\n",
    "        state = \"\"\n",
    "        if t <= OBSERVE:\n",
    "            state = \"observe\"\n",
    "        elif OBSERVE < t <= OBSERVE + EXPLORE:\n",
    "            state = \"explore\"\n",
    "        else:\n",
    "            state = \"train\"\n",
    "\n",
    "        print(\"TIMESTEP\", t,\n",
    "              \"/ STATE\", state,\n",
    "              \"/ EPSILON\", epsilon,\n",
    "              \"/ ACTION\", action_index,\n",
    "              \"/ REWARD\", reward_t,\n",
    "              \"/ SCORE\", game_score,\n",
    "              \"/ Q_MAX \" , np.max(Q_sa),\n",
    "              \"/ Loss \", loss)\n",
    "        \n",
    "        game_state.resume()"
   ]
  },
  {
   "cell_type": "code",
   "execution_count": 90,
   "metadata": {
    "colab": {
     "base_uri": "https://localhost:8080/"
    },
    "executionInfo": {
     "elapsed": 5193,
     "status": "ok",
     "timestamp": 1616208400326,
     "user": {
      "displayName": "Shawn",
      "photoUrl": "https://lh3.googleusercontent.com/a-/AOh14GiZZolNljaWyut5kciYIMHMElJv7QaQnVZYfFWIvA=s64",
      "userId": "03546205029312052168"
     },
     "user_tz": 420
    },
    "id": "LtFJSGSTFSBI",
    "outputId": "046720e5-9b4f-4e58-8435-ad289b8ce006"
   },
   "outputs": [
    {
     "name": "stderr",
     "output_type": "stream",
     "text": [
      "/Users/shuweizhang/opt/anaconda3/lib/python3.7/site-packages/ipykernel_launcher.py:7: DeprecationWarning: use options instead of chrome_options\n",
      "  import sys\n"
     ]
    }
   ],
   "source": [
    "game = Game()\n",
    "chicken = Chicken(game)"
   ]
  },
  {
   "cell_type": "code",
   "execution_count": 91,
   "metadata": {
    "executionInfo": {
     "elapsed": 5011,
     "status": "ok",
     "timestamp": 1616208400428,
     "user": {
      "displayName": "Shawn",
      "photoUrl": "https://lh3.googleusercontent.com/a-/AOh14GiZZolNljaWyut5kciYIMHMElJv7QaQnVZYfFWIvA=s64",
      "userId": "03546205029312052168"
     },
     "user_tz": 420
    },
    "id": "nfTqfzBIN6Pb"
   },
   "outputs": [],
   "source": [
    "game_state = Game_State(chicken, game)\n",
    "model = build_model()"
   ]
  },
  {
   "cell_type": "code",
   "execution_count": 92,
   "metadata": {
    "colab": {
     "base_uri": "https://localhost:8080/",
     "height": 1000
    },
    "executionInfo": {
     "elapsed": 204640,
     "status": "error",
     "timestamp": 1616208600633,
     "user": {
      "displayName": "Shawn",
      "photoUrl": "https://lh3.googleusercontent.com/a-/AOh14GiZZolNljaWyut5kciYIMHMElJv7QaQnVZYfFWIvA=s64",
      "userId": "03546205029312052168"
     },
     "user_tz": 420
    },
    "id": "uaGgcNA_NG9n",
    "outputId": "05039aa5-dfc1-4cc8-9486-453e6931df26"
   },
   "outputs": [
    {
     "name": "stdout",
     "output_type": "stream",
     "text": [
      "TIMESTEP 1 / STATE observe / EPSILON 0.2 / ACTION 1 / REWARD 0 / SCORE 0 / Q_MAX  0 / Loss  0\n",
      "TIMESTEP 2 / STATE observe / EPSILON 0.2 / ACTION 0 / REWARD 1 / SCORE 1 / Q_MAX  0 / Loss  0\n",
      "TIMESTEP 3 / STATE observe / EPSILON 0.2 / ACTION 2 / REWARD 1 / SCORE 5 / Q_MAX  0 / Loss  0\n",
      "TIMESTEP 4 / STATE observe / EPSILON 0.2 / ACTION 1 / REWARD 0 / SCORE 5 / Q_MAX  0 / Loss  0\n",
      "TIMESTEP 5 / STATE observe / EPSILON 0.2 / ACTION 0 / REWARD 10 / SCORE 0 / Q_MAX  0 / Loss  0\n",
      "TIMESTEP 6 / STATE observe / EPSILON 0.2 / ACTION 1 / REWARD 0 / SCORE 0 / Q_MAX  0 / Loss  0\n",
      "TIMESTEP 7 / STATE observe / EPSILON 0.2 / ACTION 0 / REWARD 1 / SCORE 1 / Q_MAX  0 / Loss  0\n",
      "TIMESTEP 8 / STATE observe / EPSILON 0.2 / ACTION 0 / REWARD 2 / SCORE 6 / Q_MAX  0 / Loss  0\n",
      "TIMESTEP 9 / STATE observe / EPSILON 0.2 / ACTION 3 / REWARD 10 / SCORE 0 / Q_MAX  0 / Loss  0\n",
      "TIMESTEP 10 / STATE observe / EPSILON 0.2 / ACTION 1 / REWARD 0 / SCORE 0 / Q_MAX  0 / Loss  0\n",
      "TIMESTEP 11 / STATE observe / EPSILON 0.2 / ACTION 3 / REWARD 0 / SCORE 0 / Q_MAX  0 / Loss  0\n",
      "TIMESTEP 12 / STATE observe / EPSILON 0.2 / ACTION 1 / REWARD 0 / SCORE 0 / Q_MAX  0 / Loss  0\n",
      "TIMESTEP 13 / STATE observe / EPSILON 0.2 / ACTION 1 / REWARD 0 / SCORE 0 / Q_MAX  0 / Loss  0\n",
      "TIMESTEP 14 / STATE observe / EPSILON 0.2 / ACTION 3 / REWARD 0 / SCORE 0 / Q_MAX  0 / Loss  0\n",
      "TIMESTEP 15 / STATE observe / EPSILON 0.2 / ACTION 2 / REWARD 0 / SCORE 0 / Q_MAX  0 / Loss  0\n",
      "TIMESTEP 16 / STATE observe / EPSILON 0.2 / ACTION 3 / REWARD 0 / SCORE 0 / Q_MAX  0 / Loss  0\n",
      "TIMESTEP 17 / STATE observe / EPSILON 0.2 / ACTION 1 / REWARD 0 / SCORE 0 / Q_MAX  0 / Loss  0\n",
      "TIMESTEP 18 / STATE observe / EPSILON 0.2 / ACTION 0 / REWARD 1 / SCORE 1 / Q_MAX  0 / Loss  0\n",
      "TIMESTEP 19 / STATE observe / EPSILON 0.2 / ACTION 0 / REWARD 10 / SCORE 0 / Q_MAX  0 / Loss  0\n",
      "TIMESTEP 20 / STATE observe / EPSILON 0.2 / ACTION 1 / REWARD 0 / SCORE 0 / Q_MAX  0 / Loss  0\n",
      "TIMESTEP 21 / STATE observe / EPSILON 0.2 / ACTION 2 / REWARD 0 / SCORE 0 / Q_MAX  0 / Loss  0\n",
      "TIMESTEP 22 / STATE observe / EPSILON 0.2 / ACTION 2 / REWARD 0 / SCORE 0 / Q_MAX  0 / Loss  0\n",
      "TIMESTEP 23 / STATE observe / EPSILON 0.2 / ACTION 3 / REWARD 0 / SCORE 0 / Q_MAX  0 / Loss  0\n",
      "TIMESTEP 24 / STATE observe / EPSILON 0.2 / ACTION 3 / REWARD 0 / SCORE 0 / Q_MAX  0 / Loss  0\n",
      "TIMESTEP 25 / STATE observe / EPSILON 0.2 / ACTION 1 / REWARD 0 / SCORE 0 / Q_MAX  0 / Loss  0\n",
      "TIMESTEP 26 / STATE observe / EPSILON 0.2 / ACTION 2 / REWARD 0 / SCORE 0 / Q_MAX  0 / Loss  0\n",
      "TIMESTEP 27 / STATE observe / EPSILON 0.2 / ACTION 2 / REWARD 0 / SCORE 0 / Q_MAX  0 / Loss  0\n",
      "TIMESTEP 28 / STATE observe / EPSILON 0.2 / ACTION 1 / REWARD 0 / SCORE 0 / Q_MAX  0 / Loss  0\n",
      "TIMESTEP 29 / STATE observe / EPSILON 0.2 / ACTION 0 / REWARD 1 / SCORE 1 / Q_MAX  0 / Loss  0\n",
      "TIMESTEP 30 / STATE observe / EPSILON 0.2 / ACTION 3 / REWARD 10 / SCORE 0 / Q_MAX  0 / Loss  0\n",
      "TIMESTEP 31 / STATE observe / EPSILON 0.2 / ACTION 0 / REWARD 1 / SCORE 1 / Q_MAX  0 / Loss  0\n",
      "TIMESTEP 32 / STATE observe / EPSILON 0.2 / ACTION 1 / REWARD 1 / SCORE 5 / Q_MAX  0 / Loss  0\n",
      "TIMESTEP 33 / STATE observe / EPSILON 0.2 / ACTION 3 / REWARD -1 / SCORE 4 / Q_MAX  0 / Loss  0\n",
      "TIMESTEP 34 / STATE observe / EPSILON 0.2 / ACTION 2 / REWARD -1 / SCORE 0 / Q_MAX  0 / Loss  0\n",
      "TIMESTEP 35 / STATE observe / EPSILON 0.2 / ACTION 0 / REWARD 1 / SCORE 1 / Q_MAX  0 / Loss  0\n",
      "TIMESTEP 36 / STATE explore / EPSILON 0.2 / ACTION 0 / REWARD 10 / SCORE 0 / Q_MAX  0 / Loss  0\n",
      "TIMESTEP 37 / STATE explore / EPSILON 0.19999801 / ACTION 0 / REWARD 1 / SCORE 1 / Q_MAX  18.29548 / Loss  53.570133209228516\n",
      "TIMESTEP 38 / STATE explore / EPSILON 0.19999602 / ACTION 0 / REWARD 0 / SCORE 6 / Q_MAX  12.794134 / Loss  52.50984191894531\n",
      "TIMESTEP 39 / STATE explore / EPSILON 0.19999403 / ACTION 0 / REWARD 0 / SCORE 0 / Q_MAX  16.43879 / Loss  41.19556427001953\n",
      "TIMESTEP 40 / STATE explore / EPSILON 0.19999203999999998 / ACTION 0 / REWARD 0 / SCORE 1 / Q_MAX  12.31745 / Loss  35.414581298828125\n",
      "TIMESTEP 41 / STATE explore / EPSILON 0.19999004999999997 / ACTION 0 / REWARD 0 / SCORE 0 / Q_MAX  13.761268 / Loss  27.035112380981445\n",
      "TIMESTEP 42 / STATE explore / EPSILON 0.19998805999999997 / ACTION 0 / REWARD 1 / SCORE 1 / Q_MAX  11.24079 / Loss  22.650577545166016\n",
      "TIMESTEP 43 / STATE explore / EPSILON 0.19998606999999996 / ACTION 0 / REWARD 0 / SCORE 0 / Q_MAX  13.7540865 / Loss  21.439781188964844\n",
      "TIMESTEP 44 / STATE explore / EPSILON 0.19998407999999995 / ACTION 0 / REWARD 0 / SCORE 1 / Q_MAX  11.15326 / Loss  14.37729263305664\n",
      "TIMESTEP 45 / STATE explore / EPSILON 0.19998208999999995 / ACTION 0 / REWARD 0 / SCORE 1 / Q_MAX  6.8549356 / Loss  11.468584060668945\n",
      "TIMESTEP 46 / STATE explore / EPSILON 0.19998009999999994 / ACTION 0 / REWARD 0 / SCORE 0 / Q_MAX  12.974822 / Loss  9.326481819152832\n",
      "TIMESTEP 47 / STATE explore / EPSILON 0.19997810999999993 / ACTION 0 / REWARD 1 / SCORE 1 / Q_MAX  14.515908 / Loss  7.76840353012085\n",
      "TIMESTEP 48 / STATE explore / EPSILON 0.19997611999999992 / ACTION 0 / REWARD 1 / SCORE 0 / Q_MAX  15.06001 / Loss  9.100008010864258\n",
      "TIMESTEP 49 / STATE explore / EPSILON 0.19997412999999992 / ACTION 0 / REWARD 1 / SCORE 1 / Q_MAX  11.511832 / Loss  5.206830024719238\n",
      "TIMESTEP 50 / STATE explore / EPSILON 0.1999721399999999 / ACTION 0 / REWARD 10 / SCORE 0 / Q_MAX  15.302236 / Loss  4.4567461013793945\n",
      "TIMESTEP 51 / STATE explore / EPSILON 0.1999701499999999 / ACTION 0 / REWARD 1 / SCORE 1 / Q_MAX  17.84644 / Loss  4.265714645385742\n"
     ]
    },
    {
     "ename": "NoSuchWindowException",
     "evalue": "Message: no such window: target window already closed\nfrom unknown error: web view not found\n  (Session info: chrome=89.0.4389.90)\n",
     "output_type": "error",
     "traceback": [
      "\u001b[0;31m---------------------------------------------------------------------------\u001b[0m",
      "\u001b[0;31mNoSuchWindowException\u001b[0m                     Traceback (most recent call last)",
      "\u001b[0;32m<ipython-input-92-3904d18541cf>\u001b[0m in \u001b[0;36m<module>\u001b[0;34m\u001b[0m\n\u001b[0;32m----> 1\u001b[0;31m \u001b[0mtrain_nn\u001b[0m\u001b[0;34m(\u001b[0m\u001b[0mmodel\u001b[0m\u001b[0;34m,\u001b[0m \u001b[0mgame_state\u001b[0m\u001b[0;34m)\u001b[0m\u001b[0;34m\u001b[0m\u001b[0;34m\u001b[0m\u001b[0m\n\u001b[0m",
      "\u001b[0;32m<ipython-input-81-5547341ce059>\u001b[0m in \u001b[0;36mtrain_nn\u001b[0;34m(model, game_state)\u001b[0m\n\u001b[1;32m     21\u001b[0m         \u001b[0maction_t\u001b[0m \u001b[0;34m=\u001b[0m \u001b[0mnp\u001b[0m\u001b[0;34m.\u001b[0m\u001b[0mzeros\u001b[0m\u001b[0;34m(\u001b[0m\u001b[0;34m[\u001b[0m\u001b[0mACTIONS\u001b[0m\u001b[0;34m]\u001b[0m\u001b[0;34m)\u001b[0m\u001b[0;34m\u001b[0m\u001b[0;34m\u001b[0m\u001b[0m\n\u001b[1;32m     22\u001b[0m \u001b[0;34m\u001b[0m\u001b[0m\n\u001b[0;32m---> 23\u001b[0;31m         \u001b[0mgame_state\u001b[0m\u001b[0;34m.\u001b[0m\u001b[0mpause\u001b[0m\u001b[0;34m(\u001b[0m\u001b[0;34m)\u001b[0m\u001b[0;34m\u001b[0m\u001b[0;34m\u001b[0m\u001b[0m\n\u001b[0m\u001b[1;32m     24\u001b[0m         \u001b[0;32mif\u001b[0m \u001b[0mt\u001b[0m \u001b[0;34m<\u001b[0m \u001b[0mOBSERVE\u001b[0m\u001b[0;34m:\u001b[0m\u001b[0;34m\u001b[0m\u001b[0;34m\u001b[0m\u001b[0m\n\u001b[1;32m     25\u001b[0m             \u001b[0maction_index\u001b[0m \u001b[0;34m=\u001b[0m \u001b[0mrandom\u001b[0m\u001b[0;34m.\u001b[0m\u001b[0mrandrange\u001b[0m\u001b[0;34m(\u001b[0m\u001b[0mACTIONS\u001b[0m\u001b[0;34m)\u001b[0m\u001b[0;34m\u001b[0m\u001b[0;34m\u001b[0m\u001b[0m\n",
      "\u001b[0;32m<ipython-input-69-c634f1c68483>\u001b[0m in \u001b[0;36mpause\u001b[0;34m(self)\u001b[0m\n\u001b[1;32m     15\u001b[0m \u001b[0;34m\u001b[0m\u001b[0m\n\u001b[1;32m     16\u001b[0m     \u001b[0;32mdef\u001b[0m \u001b[0mpause\u001b[0m\u001b[0;34m(\u001b[0m\u001b[0mself\u001b[0m\u001b[0;34m)\u001b[0m\u001b[0;34m:\u001b[0m\u001b[0;34m\u001b[0m\u001b[0;34m\u001b[0m\u001b[0m\n\u001b[0;32m---> 17\u001b[0;31m         \u001b[0mself\u001b[0m\u001b[0;34m.\u001b[0m\u001b[0m_game\u001b[0m\u001b[0;34m.\u001b[0m\u001b[0mpause\u001b[0m\u001b[0;34m(\u001b[0m\u001b[0;34m)\u001b[0m\u001b[0;34m\u001b[0m\u001b[0;34m\u001b[0m\u001b[0m\n\u001b[0m\u001b[1;32m     18\u001b[0m \u001b[0;34m\u001b[0m\u001b[0m\n\u001b[1;32m     19\u001b[0m     \u001b[0;32mdef\u001b[0m \u001b[0mresume\u001b[0m\u001b[0;34m(\u001b[0m\u001b[0mself\u001b[0m\u001b[0;34m)\u001b[0m\u001b[0;34m:\u001b[0m\u001b[0;34m\u001b[0m\u001b[0;34m\u001b[0m\u001b[0m\n",
      "\u001b[0;32m<ipython-input-67-b88b7f4209a2>\u001b[0m in \u001b[0;36mpause\u001b[0;34m(self)\u001b[0m\n\u001b[1;32m     43\u001b[0m     \u001b[0;32mdef\u001b[0m \u001b[0mpause\u001b[0m\u001b[0;34m(\u001b[0m\u001b[0mself\u001b[0m\u001b[0;34m)\u001b[0m\u001b[0;34m:\u001b[0m\u001b[0;34m\u001b[0m\u001b[0;34m\u001b[0m\u001b[0m\n\u001b[1;32m     44\u001b[0m         \u001b[0;32mif\u001b[0m \u001b[0;32mnot\u001b[0m \u001b[0mself\u001b[0m\u001b[0;34m.\u001b[0m\u001b[0m_paused\u001b[0m\u001b[0;34m:\u001b[0m\u001b[0;34m\u001b[0m\u001b[0;34m\u001b[0m\u001b[0m\n\u001b[0;32m---> 45\u001b[0;31m           \u001b[0mself\u001b[0m\u001b[0;34m.\u001b[0m\u001b[0mpause_or_resume\u001b[0m\u001b[0;34m(\u001b[0m\u001b[0;34m)\u001b[0m\u001b[0;34m\u001b[0m\u001b[0;34m\u001b[0m\u001b[0m\n\u001b[0m\u001b[1;32m     46\u001b[0m \u001b[0;34m\u001b[0m\u001b[0m\n\u001b[1;32m     47\u001b[0m     \u001b[0;32mdef\u001b[0m \u001b[0mresume\u001b[0m\u001b[0;34m(\u001b[0m\u001b[0mself\u001b[0m\u001b[0;34m)\u001b[0m\u001b[0;34m:\u001b[0m\u001b[0;34m\u001b[0m\u001b[0;34m\u001b[0m\u001b[0m\n",
      "\u001b[0;32m<ipython-input-67-b88b7f4209a2>\u001b[0m in \u001b[0;36mpause_or_resume\u001b[0;34m(self)\u001b[0m\n\u001b[1;32m     38\u001b[0m     \u001b[0;32mdef\u001b[0m \u001b[0mpause_or_resume\u001b[0m\u001b[0;34m(\u001b[0m\u001b[0mself\u001b[0m\u001b[0;34m)\u001b[0m\u001b[0;34m:\u001b[0m\u001b[0;34m\u001b[0m\u001b[0;34m\u001b[0m\u001b[0m\n\u001b[1;32m     39\u001b[0m         \u001b[0maction\u001b[0m \u001b[0;34m=\u001b[0m \u001b[0mActionChains\u001b[0m\u001b[0;34m(\u001b[0m\u001b[0mself\u001b[0m\u001b[0;34m.\u001b[0m\u001b[0mdriver\u001b[0m\u001b[0;34m)\u001b[0m\u001b[0;34m\u001b[0m\u001b[0;34m\u001b[0m\u001b[0m\n\u001b[0;32m---> 40\u001b[0;31m         \u001b[0maction\u001b[0m\u001b[0;34m.\u001b[0m\u001b[0msend_keys\u001b[0m\u001b[0;34m(\u001b[0m\u001b[0mKeys\u001b[0m\u001b[0;34m.\u001b[0m\u001b[0mENTER\u001b[0m\u001b[0;34m)\u001b[0m\u001b[0;34m.\u001b[0m\u001b[0mperform\u001b[0m\u001b[0;34m(\u001b[0m\u001b[0;34m)\u001b[0m\u001b[0;34m\u001b[0m\u001b[0;34m\u001b[0m\u001b[0m\n\u001b[0m\u001b[1;32m     41\u001b[0m         \u001b[0mself\u001b[0m\u001b[0;34m.\u001b[0m\u001b[0m_paused\u001b[0m \u001b[0;34m=\u001b[0m \u001b[0;32mnot\u001b[0m \u001b[0mself\u001b[0m\u001b[0;34m.\u001b[0m\u001b[0m_paused\u001b[0m\u001b[0;34m\u001b[0m\u001b[0;34m\u001b[0m\u001b[0m\n\u001b[1;32m     42\u001b[0m \u001b[0;34m\u001b[0m\u001b[0m\n",
      "\u001b[0;32m~/opt/anaconda3/lib/python3.7/site-packages/selenium/webdriver/common/action_chains.py\u001b[0m in \u001b[0;36mperform\u001b[0;34m(self)\u001b[0m\n\u001b[1;32m     78\u001b[0m         \"\"\"\n\u001b[1;32m     79\u001b[0m         \u001b[0;32mif\u001b[0m \u001b[0mself\u001b[0m\u001b[0;34m.\u001b[0m\u001b[0m_driver\u001b[0m\u001b[0;34m.\u001b[0m\u001b[0mw3c\u001b[0m\u001b[0;34m:\u001b[0m\u001b[0;34m\u001b[0m\u001b[0;34m\u001b[0m\u001b[0m\n\u001b[0;32m---> 80\u001b[0;31m             \u001b[0mself\u001b[0m\u001b[0;34m.\u001b[0m\u001b[0mw3c_actions\u001b[0m\u001b[0;34m.\u001b[0m\u001b[0mperform\u001b[0m\u001b[0;34m(\u001b[0m\u001b[0;34m)\u001b[0m\u001b[0;34m\u001b[0m\u001b[0;34m\u001b[0m\u001b[0m\n\u001b[0m\u001b[1;32m     81\u001b[0m         \u001b[0;32melse\u001b[0m\u001b[0;34m:\u001b[0m\u001b[0;34m\u001b[0m\u001b[0;34m\u001b[0m\u001b[0m\n\u001b[1;32m     82\u001b[0m             \u001b[0;32mfor\u001b[0m \u001b[0maction\u001b[0m \u001b[0;32min\u001b[0m \u001b[0mself\u001b[0m\u001b[0;34m.\u001b[0m\u001b[0m_actions\u001b[0m\u001b[0;34m:\u001b[0m\u001b[0;34m\u001b[0m\u001b[0;34m\u001b[0m\u001b[0m\n",
      "\u001b[0;32m~/opt/anaconda3/lib/python3.7/site-packages/selenium/webdriver/common/actions/action_builder.py\u001b[0m in \u001b[0;36mperform\u001b[0;34m(self)\u001b[0m\n\u001b[1;32m     74\u001b[0m             \u001b[0;32mif\u001b[0m \u001b[0mencoded\u001b[0m\u001b[0;34m[\u001b[0m\u001b[0;34m'actions'\u001b[0m\u001b[0;34m]\u001b[0m\u001b[0;34m:\u001b[0m\u001b[0;34m\u001b[0m\u001b[0;34m\u001b[0m\u001b[0m\n\u001b[1;32m     75\u001b[0m                 \u001b[0menc\u001b[0m\u001b[0;34m[\u001b[0m\u001b[0;34m\"actions\"\u001b[0m\u001b[0;34m]\u001b[0m\u001b[0;34m.\u001b[0m\u001b[0mappend\u001b[0m\u001b[0;34m(\u001b[0m\u001b[0mencoded\u001b[0m\u001b[0;34m)\u001b[0m\u001b[0;34m\u001b[0m\u001b[0;34m\u001b[0m\u001b[0m\n\u001b[0;32m---> 76\u001b[0;31m         \u001b[0mself\u001b[0m\u001b[0;34m.\u001b[0m\u001b[0mdriver\u001b[0m\u001b[0;34m.\u001b[0m\u001b[0mexecute\u001b[0m\u001b[0;34m(\u001b[0m\u001b[0mCommand\u001b[0m\u001b[0;34m.\u001b[0m\u001b[0mW3C_ACTIONS\u001b[0m\u001b[0;34m,\u001b[0m \u001b[0menc\u001b[0m\u001b[0;34m)\u001b[0m\u001b[0;34m\u001b[0m\u001b[0;34m\u001b[0m\u001b[0m\n\u001b[0m\u001b[1;32m     77\u001b[0m \u001b[0;34m\u001b[0m\u001b[0m\n\u001b[1;32m     78\u001b[0m     \u001b[0;32mdef\u001b[0m \u001b[0mclear_actions\u001b[0m\u001b[0;34m(\u001b[0m\u001b[0mself\u001b[0m\u001b[0;34m)\u001b[0m\u001b[0;34m:\u001b[0m\u001b[0;34m\u001b[0m\u001b[0;34m\u001b[0m\u001b[0m\n",
      "\u001b[0;32m~/opt/anaconda3/lib/python3.7/site-packages/selenium/webdriver/remote/webdriver.py\u001b[0m in \u001b[0;36mexecute\u001b[0;34m(self, driver_command, params)\u001b[0m\n\u001b[1;32m    319\u001b[0m         \u001b[0mresponse\u001b[0m \u001b[0;34m=\u001b[0m \u001b[0mself\u001b[0m\u001b[0;34m.\u001b[0m\u001b[0mcommand_executor\u001b[0m\u001b[0;34m.\u001b[0m\u001b[0mexecute\u001b[0m\u001b[0;34m(\u001b[0m\u001b[0mdriver_command\u001b[0m\u001b[0;34m,\u001b[0m \u001b[0mparams\u001b[0m\u001b[0;34m)\u001b[0m\u001b[0;34m\u001b[0m\u001b[0;34m\u001b[0m\u001b[0m\n\u001b[1;32m    320\u001b[0m         \u001b[0;32mif\u001b[0m \u001b[0mresponse\u001b[0m\u001b[0;34m:\u001b[0m\u001b[0;34m\u001b[0m\u001b[0;34m\u001b[0m\u001b[0m\n\u001b[0;32m--> 321\u001b[0;31m             \u001b[0mself\u001b[0m\u001b[0;34m.\u001b[0m\u001b[0merror_handler\u001b[0m\u001b[0;34m.\u001b[0m\u001b[0mcheck_response\u001b[0m\u001b[0;34m(\u001b[0m\u001b[0mresponse\u001b[0m\u001b[0;34m)\u001b[0m\u001b[0;34m\u001b[0m\u001b[0;34m\u001b[0m\u001b[0m\n\u001b[0m\u001b[1;32m    322\u001b[0m             response['value'] = self._unwrap_value(\n\u001b[1;32m    323\u001b[0m                 response.get('value', None))\n",
      "\u001b[0;32m~/opt/anaconda3/lib/python3.7/site-packages/selenium/webdriver/remote/errorhandler.py\u001b[0m in \u001b[0;36mcheck_response\u001b[0;34m(self, response)\u001b[0m\n\u001b[1;32m    240\u001b[0m                 \u001b[0malert_text\u001b[0m \u001b[0;34m=\u001b[0m \u001b[0mvalue\u001b[0m\u001b[0;34m[\u001b[0m\u001b[0;34m'alert'\u001b[0m\u001b[0;34m]\u001b[0m\u001b[0;34m.\u001b[0m\u001b[0mget\u001b[0m\u001b[0;34m(\u001b[0m\u001b[0;34m'text'\u001b[0m\u001b[0;34m)\u001b[0m\u001b[0;34m\u001b[0m\u001b[0;34m\u001b[0m\u001b[0m\n\u001b[1;32m    241\u001b[0m             \u001b[0;32mraise\u001b[0m \u001b[0mexception_class\u001b[0m\u001b[0;34m(\u001b[0m\u001b[0mmessage\u001b[0m\u001b[0;34m,\u001b[0m \u001b[0mscreen\u001b[0m\u001b[0;34m,\u001b[0m \u001b[0mstacktrace\u001b[0m\u001b[0;34m,\u001b[0m \u001b[0malert_text\u001b[0m\u001b[0;34m)\u001b[0m\u001b[0;34m\u001b[0m\u001b[0;34m\u001b[0m\u001b[0m\n\u001b[0;32m--> 242\u001b[0;31m         \u001b[0;32mraise\u001b[0m \u001b[0mexception_class\u001b[0m\u001b[0;34m(\u001b[0m\u001b[0mmessage\u001b[0m\u001b[0;34m,\u001b[0m \u001b[0mscreen\u001b[0m\u001b[0;34m,\u001b[0m \u001b[0mstacktrace\u001b[0m\u001b[0;34m)\u001b[0m\u001b[0;34m\u001b[0m\u001b[0;34m\u001b[0m\u001b[0m\n\u001b[0m\u001b[1;32m    243\u001b[0m \u001b[0;34m\u001b[0m\u001b[0m\n\u001b[1;32m    244\u001b[0m     \u001b[0;32mdef\u001b[0m \u001b[0m_value_or_default\u001b[0m\u001b[0;34m(\u001b[0m\u001b[0mself\u001b[0m\u001b[0;34m,\u001b[0m \u001b[0mobj\u001b[0m\u001b[0;34m,\u001b[0m \u001b[0mkey\u001b[0m\u001b[0;34m,\u001b[0m \u001b[0mdefault\u001b[0m\u001b[0;34m)\u001b[0m\u001b[0;34m:\u001b[0m\u001b[0;34m\u001b[0m\u001b[0;34m\u001b[0m\u001b[0m\n",
      "\u001b[0;31mNoSuchWindowException\u001b[0m: Message: no such window: target window already closed\nfrom unknown error: web view not found\n  (Session info: chrome=89.0.4389.90)\n"
     ]
    }
   ],
   "source": [
    "train_nn(model, game_state)"
   ]
  },
  {
   "cell_type": "code",
   "execution_count": 85,
   "metadata": {
    "executionInfo": {
     "elapsed": 20723,
     "status": "aborted",
     "timestamp": 1616198682049,
     "user": {
      "displayName": "Shawn",
      "photoUrl": "https://lh3.googleusercontent.com/a-/AOh14GiZZolNljaWyut5kciYIMHMElJv7QaQnVZYfFWIvA=s64",
      "userId": "03546205029312052168"
     },
     "user_tz": 420
    },
    "id": "-kd7yMRpNKv3"
   },
   "outputs": [
    {
     "ename": "WebDriverException",
     "evalue": "Message: chrome not reachable\n  (Session info: chrome=89.0.4389.90)\n",
     "output_type": "error",
     "traceback": [
      "\u001b[0;31m---------------------------------------------------------------------------\u001b[0m",
      "\u001b[0;31mWebDriverException\u001b[0m                        Traceback (most recent call last)",
      "\u001b[0;32m<ipython-input-85-400130e15535>\u001b[0m in \u001b[0;36m<module>\u001b[0;34m\u001b[0m\n\u001b[0;32m----> 1\u001b[0;31m \u001b[0mgame\u001b[0m\u001b[0;34m.\u001b[0m\u001b[0mend\u001b[0m\u001b[0;34m(\u001b[0m\u001b[0;34m)\u001b[0m\u001b[0;34m\u001b[0m\u001b[0;34m\u001b[0m\u001b[0m\n\u001b[0m",
      "\u001b[0;32m<ipython-input-67-b88b7f4209a2>\u001b[0m in \u001b[0;36mend\u001b[0;34m(self)\u001b[0m\n\u001b[1;32m     34\u001b[0m \u001b[0;34m\u001b[0m\u001b[0m\n\u001b[1;32m     35\u001b[0m     \u001b[0;32mdef\u001b[0m \u001b[0mend\u001b[0m\u001b[0;34m(\u001b[0m\u001b[0mself\u001b[0m\u001b[0;34m)\u001b[0m\u001b[0;34m:\u001b[0m\u001b[0;34m\u001b[0m\u001b[0;34m\u001b[0m\u001b[0m\n\u001b[0;32m---> 36\u001b[0;31m         \u001b[0mself\u001b[0m\u001b[0;34m.\u001b[0m\u001b[0mdriver\u001b[0m\u001b[0;34m.\u001b[0m\u001b[0mclose\u001b[0m\u001b[0;34m(\u001b[0m\u001b[0;34m)\u001b[0m\u001b[0;34m\u001b[0m\u001b[0;34m\u001b[0m\u001b[0m\n\u001b[0m\u001b[1;32m     37\u001b[0m \u001b[0;34m\u001b[0m\u001b[0m\n\u001b[1;32m     38\u001b[0m     \u001b[0;32mdef\u001b[0m \u001b[0mpause_or_resume\u001b[0m\u001b[0;34m(\u001b[0m\u001b[0mself\u001b[0m\u001b[0;34m)\u001b[0m\u001b[0;34m:\u001b[0m\u001b[0;34m\u001b[0m\u001b[0;34m\u001b[0m\u001b[0m\n",
      "\u001b[0;32m~/opt/anaconda3/lib/python3.7/site-packages/selenium/webdriver/remote/webdriver.py\u001b[0m in \u001b[0;36mclose\u001b[0;34m(self)\u001b[0m\n\u001b[1;32m    686\u001b[0m             \u001b[0mdriver\u001b[0m\u001b[0;34m.\u001b[0m\u001b[0mclose\u001b[0m\u001b[0;34m(\u001b[0m\u001b[0;34m)\u001b[0m\u001b[0;34m\u001b[0m\u001b[0;34m\u001b[0m\u001b[0m\n\u001b[1;32m    687\u001b[0m         \"\"\"\n\u001b[0;32m--> 688\u001b[0;31m         \u001b[0mself\u001b[0m\u001b[0;34m.\u001b[0m\u001b[0mexecute\u001b[0m\u001b[0;34m(\u001b[0m\u001b[0mCommand\u001b[0m\u001b[0;34m.\u001b[0m\u001b[0mCLOSE\u001b[0m\u001b[0;34m)\u001b[0m\u001b[0;34m\u001b[0m\u001b[0;34m\u001b[0m\u001b[0m\n\u001b[0m\u001b[1;32m    689\u001b[0m \u001b[0;34m\u001b[0m\u001b[0m\n\u001b[1;32m    690\u001b[0m     \u001b[0;32mdef\u001b[0m \u001b[0mquit\u001b[0m\u001b[0;34m(\u001b[0m\u001b[0mself\u001b[0m\u001b[0;34m)\u001b[0m\u001b[0;34m:\u001b[0m\u001b[0;34m\u001b[0m\u001b[0;34m\u001b[0m\u001b[0m\n",
      "\u001b[0;32m~/opt/anaconda3/lib/python3.7/site-packages/selenium/webdriver/remote/webdriver.py\u001b[0m in \u001b[0;36mexecute\u001b[0;34m(self, driver_command, params)\u001b[0m\n\u001b[1;32m    319\u001b[0m         \u001b[0mresponse\u001b[0m \u001b[0;34m=\u001b[0m \u001b[0mself\u001b[0m\u001b[0;34m.\u001b[0m\u001b[0mcommand_executor\u001b[0m\u001b[0;34m.\u001b[0m\u001b[0mexecute\u001b[0m\u001b[0;34m(\u001b[0m\u001b[0mdriver_command\u001b[0m\u001b[0;34m,\u001b[0m \u001b[0mparams\u001b[0m\u001b[0;34m)\u001b[0m\u001b[0;34m\u001b[0m\u001b[0;34m\u001b[0m\u001b[0m\n\u001b[1;32m    320\u001b[0m         \u001b[0;32mif\u001b[0m \u001b[0mresponse\u001b[0m\u001b[0;34m:\u001b[0m\u001b[0;34m\u001b[0m\u001b[0;34m\u001b[0m\u001b[0m\n\u001b[0;32m--> 321\u001b[0;31m             \u001b[0mself\u001b[0m\u001b[0;34m.\u001b[0m\u001b[0merror_handler\u001b[0m\u001b[0;34m.\u001b[0m\u001b[0mcheck_response\u001b[0m\u001b[0;34m(\u001b[0m\u001b[0mresponse\u001b[0m\u001b[0;34m)\u001b[0m\u001b[0;34m\u001b[0m\u001b[0;34m\u001b[0m\u001b[0m\n\u001b[0m\u001b[1;32m    322\u001b[0m             response['value'] = self._unwrap_value(\n\u001b[1;32m    323\u001b[0m                 response.get('value', None))\n",
      "\u001b[0;32m~/opt/anaconda3/lib/python3.7/site-packages/selenium/webdriver/remote/errorhandler.py\u001b[0m in \u001b[0;36mcheck_response\u001b[0;34m(self, response)\u001b[0m\n\u001b[1;32m    240\u001b[0m                 \u001b[0malert_text\u001b[0m \u001b[0;34m=\u001b[0m \u001b[0mvalue\u001b[0m\u001b[0;34m[\u001b[0m\u001b[0;34m'alert'\u001b[0m\u001b[0;34m]\u001b[0m\u001b[0;34m.\u001b[0m\u001b[0mget\u001b[0m\u001b[0;34m(\u001b[0m\u001b[0;34m'text'\u001b[0m\u001b[0;34m)\u001b[0m\u001b[0;34m\u001b[0m\u001b[0;34m\u001b[0m\u001b[0m\n\u001b[1;32m    241\u001b[0m             \u001b[0;32mraise\u001b[0m \u001b[0mexception_class\u001b[0m\u001b[0;34m(\u001b[0m\u001b[0mmessage\u001b[0m\u001b[0;34m,\u001b[0m \u001b[0mscreen\u001b[0m\u001b[0;34m,\u001b[0m \u001b[0mstacktrace\u001b[0m\u001b[0;34m,\u001b[0m \u001b[0malert_text\u001b[0m\u001b[0;34m)\u001b[0m\u001b[0;34m\u001b[0m\u001b[0;34m\u001b[0m\u001b[0m\n\u001b[0;32m--> 242\u001b[0;31m         \u001b[0;32mraise\u001b[0m \u001b[0mexception_class\u001b[0m\u001b[0;34m(\u001b[0m\u001b[0mmessage\u001b[0m\u001b[0;34m,\u001b[0m \u001b[0mscreen\u001b[0m\u001b[0;34m,\u001b[0m \u001b[0mstacktrace\u001b[0m\u001b[0;34m)\u001b[0m\u001b[0;34m\u001b[0m\u001b[0;34m\u001b[0m\u001b[0m\n\u001b[0m\u001b[1;32m    243\u001b[0m \u001b[0;34m\u001b[0m\u001b[0m\n\u001b[1;32m    244\u001b[0m     \u001b[0;32mdef\u001b[0m \u001b[0m_value_or_default\u001b[0m\u001b[0;34m(\u001b[0m\u001b[0mself\u001b[0m\u001b[0;34m,\u001b[0m \u001b[0mobj\u001b[0m\u001b[0;34m,\u001b[0m \u001b[0mkey\u001b[0m\u001b[0;34m,\u001b[0m \u001b[0mdefault\u001b[0m\u001b[0;34m)\u001b[0m\u001b[0;34m:\u001b[0m\u001b[0;34m\u001b[0m\u001b[0;34m\u001b[0m\u001b[0m\n",
      "\u001b[0;31mWebDriverException\u001b[0m: Message: chrome not reachable\n  (Session info: chrome=89.0.4389.90)\n"
     ]
    }
   ],
   "source": [
    "game.end()"
   ]
  },
  {
   "cell_type": "code",
   "execution_count": null,
   "metadata": {},
   "outputs": [],
   "source": []
  }
 ],
 "metadata": {
  "accelerator": "TPU",
  "colab": {
   "authorship_tag": "ABX9TyM5x3tZFcG0moslifwnlhW4",
   "collapsed_sections": [],
   "name": "Untitled0.ipynb",
   "provenance": []
  },
  "kernelspec": {
   "display_name": "Python 3",
   "language": "python",
   "name": "python3"
  },
  "language_info": {
   "codemirror_mode": {
    "name": "ipython",
    "version": 3
   },
   "file_extension": ".py",
   "mimetype": "text/x-python",
   "name": "python",
   "nbconvert_exporter": "python",
   "pygments_lexer": "ipython3",
   "version": "3.7.9"
  }
 },
 "nbformat": 4,
 "nbformat_minor": 1
}
